{
 "cells": [
  {
   "cell_type": "code",
   "execution_count": 32,
   "metadata": {},
   "outputs": [],
   "source": [
    "import json\n",
    "import numpy as np\n",
    "import seaborn as sns\n",
    "import matplotlib.pyplot as plt\n",
    "from sklearn import preprocessing\n",
    "with open('../res/Staphylococcus_aureus/stats.json') as json_file:\n",
    "    stats = json.load(json_file)"
   ]
  },
  {
   "cell_type": "code",
   "execution_count": 31,
   "metadata": {},
   "outputs": [
    {
     "name": "stdout",
     "output_type": "stream",
     "text": [
      "['0.1', '0.2', '0.3', '0.4', '0.5', '0.6', '0.7', '0.8', '0.9', '1.0']\n"
     ]
    },
    {
     "data": {
      "text/plain": [
       "<matplotlib.axes._subplots.AxesSubplot at 0x7fd4a0b48d68>"
      ]
     },
     "execution_count": 31,
     "metadata": {},
     "output_type": "execute_result"
    },
    {
     "data": {
      "image/png": "[encoded data removed]",
      "text/plain": [
       "<Figure size 432x288 with 1 Axes>"
      ]
     },
     "metadata": {
      "needs_background": "light"
     },
     "output_type": "display_data"
    }
   ],
   "source": [
    "cov = sorted(stats.keys())\n",
    "cov_2d= [x[0:3] for x in cov]\n",
    "N50_scaffolds =list( map(lambda x:([n[\"Scaffold Stats\"][\"N50\"] for n in stats[x]]), cov))\n",
    "# N50_contigs = list(map(lambda x:np.mean([n[\"Contig Stats\"][\"N50\"] for n in stats[x]]), cov))\n",
    "\n",
    "print(cov_2d)\n",
    "# scaffolds\n",
    "sns.boxplot(cov_2d,N50_scaffolds)\n",
    "# plt.savefig(os.path.join(directory,\"N50_scaff.png\"))\n",
    "#contigs\n",
    "# plt.plot(cov, N50_contigs)\n",
    "# plt.xlabel(\"coverage\")\n",
    "# plt.ylabel(\"N50 avg\")\n",
    "# plt.title(\"N50 per cov\")\n",
    "# plt.savefig(os.path.join(directory,\"N50_contig.png\"))"
   ]
  },
  {
   "cell_type": "code",
   "execution_count": 34,
   "metadata": {},
   "outputs": [],
   "source": [
    "norm_N50 = preprocessing.normalize(N50_scaffolds)"
   ]
  },
  {
   "cell_type": "code",
   "execution_count": 39,
   "metadata": {},
   "outputs": [
    {
     "data": {
      "text/plain": [
       "<matplotlib.axes._subplots.AxesSubplot at 0x7fd482dd16d8>"
      ]
     },
     "execution_count": 39,
     "metadata": {},
     "output_type": "execute_result"
    },
    {
     "data": {
      "image/png": "[encoded data removed]",
      "text/plain": [
       "<Figure size 432x288 with 1 Axes>"
      ]
     },
     "metadata": {
      "needs_background": "light"
     },
     "output_type": "display_data"
    }
   ],
   "source": [
    "sns.boxplot(cov_2d,list(norm_N50))\n",
    "\n"
   ]
  },
  {
   "cell_type": "code",
   "execution_count": 37,
   "metadata": {},
   "outputs": [
    {
     "data": {
      "text/plain": [
       "array([[0.31830044, 0.31017362, 0.31220533, 0.32100938, 0.3155915 ,\n",
       "        0.31626874, 0.32168662, 0.31762321, 0.31965491, 0.30949639],\n",
       "       [0.31247597, 0.32510976, 0.31977549, 0.31079146, 0.31275672,\n",
       "        0.3220215 , 0.31303747, 0.30994921, 0.31275672, 0.32314451],\n",
       "       [0.30681514, 0.30327582, 0.30725756, 0.33026317, 0.31234534,\n",
       "        0.31201353, 0.33015256, 0.31864976, 0.3312586 , 0.30858481],\n",
       "       [0.30739462, 0.31651461, 0.31012599, 0.32781044, 0.30994081,\n",
       "        0.34392088, 0.31679238, 0.29841351, 0.3182738 , 0.3108667 ],\n",
       "       [0.3515362 , 0.31490653, 0.33101489, 0.29877643, 0.30986315,\n",
       "        0.28984183, 0.30490673, 0.32386286, 0.32623238, 0.30677626],\n",
       "       [0.32929856, 0.24810657, 0.32693476, 0.31869621, 0.31150052,\n",
       "        0.35072342, 0.28534805, 0.32934491, 0.34231106, 0.30731751],\n",
       "       [0.32701154, 0.32414841, 0.33636733, 0.31135108, 0.32658496,\n",
       "        0.32908659, 0.3363601 , 0.30764925, 0.27596682, 0.28108576],\n",
       "       [0.34637263, 0.30856439, 0.32984766, 0.29603542, 0.30844759,\n",
       "        0.33780891, 0.31077756, 0.3194212 , 0.30597622, 0.294769  ],\n",
       "       [0.2710427 , 0.31064654, 0.31849269, 0.30029618, 0.31849269,\n",
       "        0.31765607, 0.34400399, 0.31088396, 0.31088396, 0.35276025],\n",
       "       [0.31622777, 0.31622777, 0.31622777, 0.31622777, 0.31622777,\n",
       "        0.31622777, 0.31622777, 0.31622777, 0.31622777, 0.31622777]])"
      ]
     },
     "execution_count": 37,
     "metadata": {},
     "output_type": "execute_result"
    }
   ],
   "source": []
  },
  {
   "cell_type": "code",
   "execution_count": 38,
   "metadata": {},
   "outputs": [
    {
     "data": {
      "text/plain": [
       "[[470, 458, 461, 474, 466, 467, 475, 469, 472, 457],\n",
       " [1113, 1158, 1139, 1107, 1114, 1147, 1115, 1104, 1114, 1151],\n",
       " [2774, 2742, 2778, 2986, 2824, 2821, 2985, 2881, 2995, 2790],\n",
       " [6640, 6837, 6699, 7081, 6695, 7429, 6843, 6446, 6875, 6715],\n",
       " [16171, 14486, 15227, 13744, 14254, 13333, 14026, 14898, 15007, 14112],\n",
       " [28419, 21412, 28215, 27504, 26883, 30268, 24626, 28423, 29542, 26522],\n",
       " [45229, 44833, 46523, 43063, 45170, 45516, 46522, 42551, 38169, 38877],\n",
       " [56342, 50192, 53654, 48154, 50173, 54949, 50552, 51958, 49771, 47948],\n",
       " [47948, 54954, 56342, 53123, 56342, 56194, 60855, 54996, 54996, 62404],\n",
       " [56242, 56242, 56242, 56242, 56242, 56242, 56242, 56242, 56242, 56242]]"
      ]
     },
     "execution_count": 38,
     "metadata": {},
     "output_type": "execute_result"
    }
   ],
   "source": []
  },
  {
   "cell_type": "code",
   "execution_count": null,
   "metadata": {},
   "outputs": [],
   "source": []
  }
 ],
 "metadata": {
  "kernelspec": {
   "display_name": "Python 3",
   "language": "python",
   "name": "python3"
  },
  "language_info": {
   "codemirror_mode": {
    "name": "ipython",
    "version": 3
   },
   "file_extension": ".py",
   "mimetype": "text/x-python",
   "name": "python",
   "nbconvert_exporter": "python",
   "pygments_lexer": "ipython3",
   "version": "3.7.3"
  }
 },
 "nbformat": 4,
 "nbformat_minor": 4
}
